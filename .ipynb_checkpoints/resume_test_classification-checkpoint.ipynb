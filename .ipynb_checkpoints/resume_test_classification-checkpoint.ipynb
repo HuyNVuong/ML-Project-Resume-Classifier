{
 "cells": [
  {
   "cell_type": "code",
   "execution_count": 3,
   "metadata": {},
   "outputs": [
    {
     "data": {
      "text/html": [
       "<div>\n",
       "<style scoped>\n",
       "    .dataframe tbody tr th:only-of-type {\n",
       "        vertical-align: middle;\n",
       "    }\n",
       "\n",
       "    .dataframe tbody tr th {\n",
       "        vertical-align: top;\n",
       "    }\n",
       "\n",
       "    .dataframe thead th {\n",
       "        text-align: right;\n",
       "    }\n",
       "</style>\n",
       "<table border=\"1\" class=\"dataframe\">\n",
       "  <thead>\n",
       "    <tr style=\"text-align: right;\">\n",
       "      <th></th>\n",
       "      <th>ID</th>\n",
       "      <th>Category</th>\n",
       "      <th>Resume</th>\n",
       "    </tr>\n",
       "  </thead>\n",
       "  <tbody>\n",
       "    <tr>\n",
       "      <td>0</td>\n",
       "      <td>1</td>\n",
       "      <td>HR</td>\n",
       "      <td>b'John H. Smith, P.H.R.\\n800-991-5187 | PO Box...</td>\n",
       "    </tr>\n",
       "    <tr>\n",
       "      <td>1</td>\n",
       "      <td>2</td>\n",
       "      <td>HR</td>\n",
       "      <td>b'Name Surname\\nAddress\\nMobile No/Email\\nPERS...</td>\n",
       "    </tr>\n",
       "    <tr>\n",
       "      <td>2</td>\n",
       "      <td>3</td>\n",
       "      <td>HR</td>\n",
       "      <td>b'Anthony Brown\\nHR Assistant\\nAREAS OF EXPERT...</td>\n",
       "    </tr>\n",
       "    <tr>\n",
       "      <td>3</td>\n",
       "      <td>4</td>\n",
       "      <td>HR</td>\n",
       "      <td>b'www.downloadmela.com\\nSatheesh\\nEMAIL ID:\\nC...</td>\n",
       "    </tr>\n",
       "    <tr>\n",
       "      <td>4</td>\n",
       "      <td>5</td>\n",
       "      <td>HR</td>\n",
       "      <td>b\"HUMAN RESOURCES DIRECTOR\\n\\xef\\x82\\xb7Expert...</td>\n",
       "    </tr>\n",
       "  </tbody>\n",
       "</table>\n",
       "</div>"
      ],
      "text/plain": [
       "   ID Category                                             Resume\n",
       "0   1       HR  b'John H. Smith, P.H.R.\\n800-991-5187 | PO Box...\n",
       "1   2       HR  b'Name Surname\\nAddress\\nMobile No/Email\\nPERS...\n",
       "2   3       HR  b'Anthony Brown\\nHR Assistant\\nAREAS OF EXPERT...\n",
       "3   4       HR  b'www.downloadmela.com\\nSatheesh\\nEMAIL ID:\\nC...\n",
       "4   5       HR  b\"HUMAN RESOURCES DIRECTOR\\n\\xef\\x82\\xb7Expert..."
      ]
     },
     "execution_count": 3,
     "metadata": {},
     "output_type": "execute_result"
    }
   ],
   "source": [
    "import pandas as pd\n",
    "df = pd.read_csv('./resume_dataset-1.csv')\n",
    "df.head()"
   ]
  },
  {
   "cell_type": "markdown",
   "metadata": {},
   "source": [
    "## Extract pdf to texts for testing"
   ]
  },
  {
   "cell_type": "code",
   "execution_count": 24,
   "metadata": {},
   "outputs": [],
   "source": [
    "# %load pdf2txt.py\n",
    "import PyPDF2\n",
    "import textract\n",
    "\n",
    "from nltk.tokenize import word_tokenize\n",
    "from nltk.corpus import stopwords\n",
    "\n",
    "def pdf2txt(file_path: str) -> str:\n",
    "    with open(file_path, 'rb') as pdf_file:\n",
    "        pdf_reader = PyPDF2.PdfFileReader(pdf_file)\n",
    "        texts = ''\n",
    "        np = pdf_reader.getNumPages()\n",
    "        for i in range(np):\n",
    "            texts += pdf_reader.getPage(i).extractText()\n",
    "    return texts"
   ]
  },
  {
   "cell_type": "code",
   "execution_count": 23,
   "metadata": {},
   "outputs": [
    {
     "data": {
      "text/plain": [
       "\"HuyN.Vuong\\n/\\nin\\n/\\nhuynvuong\\nj\\ngithub.com\\n/\\nHuyNVuong\\nhuy.vuong@huskers.unl.edu\\nj\\n(415)818-7070\\nE\\nDUCATION\\nUniversityofNebraska-Lincoln\\nLincoln,NE\\nBachelorsofScienceinComputerScience;GPA:3.4\\n/\\n4.0ExpectedMay2021\\nRelevantCoursework\\n:SeniorDesignStudio,MachineLearning,SoftwareEngineering,ProgrammingLanguageConcepts,DataStructureand\\nAlgorithms,ObjectOrientedProgramming,LinearAlgebra\\nS\\nKILLS\\n\\nLanguages\\n:Python,TypeScript,Java,JavaScript,HTML,Sass,Golang,C,C\\n++\\n,L\\nA\\nT\\nE\\nX\\n\\nTechnologies\\n:Spring,Angular,React,NodeJS,Maven,Git,JIRA,Zenhub\\n\\nLibraries\\n:Lombok,Spring,Selenium,HttpClient,tkinter,GoogleAPI,Cypress\\nE\\nXPERIENCE\\nWernerEnterprises\\nOmaha,NE\\nTechnicalIntern\\nSep2019-Present\\n\\nWorkinginScrumTeaminsolvingandhandlingdifferentstoriesduringeachsprint\\n\\nHelpingindevelopaninternalwebapplicationthatusesbyhundredsofemployee\\n\\nLearningaboutthebusinessandapplythemtothesoftwaretocreatebetterandeasieruserexperience\\nDMSiSoftware\\nLincoln,NE\\nDesignStudioAssociateDeveloper-CapstoneProgramSep2019-Present\\n\\nWorkingwithteamsdesigningafullstackinternalwebapplicationfordoor\\n\\nUsingdifferentGolanglibrariestoimplementdynamicimagegenerationsforeachdoorpartsandReacttopresentthemina\\ndashboard\\n\\nCodereviewwithpeersforeachpullrequesttoavoidandbugsand\\n\\nLearnaboutdoorsandtheindustrytooptimizeuserexpereience\\nWernerEnterprises\\nOmaha,NE\\nITIntern\\nMay2019-Aug2019\\n\\nIntermodalManagementDashboard\\n:DesignedaFullstackinternalwebapplicationthatmanagesWerner'sIntermodalITS,Logistic\\ndataandBusinessdata\\n\\nUseSpringbootwithMavenforprocessingdata,creatingandhandlingOpenAuthenticationandmanagingRESTendpoint\\n\\nUseAngulartofetchdatafromRESTendpointandpresentinabeautifulformatusingTypescriptandNgxBootstraps\\n\\nGettingawellroundedunderstandingofthetransportation\\n/\\ntruckingindustryaswellasdifferentdepartmentsinWernerEnterprises\\nHelikarLab\\nLincoln,NE\\nSoftwareDeveloper-StudentWorker\\nJan2019-May2019\\n\\nInternationalization\\n:WroteascriptinPythonthattranslatedifferentlanguagesdependonuser'slanguagepreferences.\\n\\nAutomation\\n:CreateddifferentscriptusingYAMLtoautomatetedioustaskssuchasupdatedependencies,detectonchanges,merging\\ngitbranches,avoidinghumanerrors\\n\\nWrote1000\\n+\\nlinesofcodeinJavascriptperformBehavioralDevelopmentTestingforthewebsite\\nDept.ofComputerScienceandEngineering\\nLincoln,NE\\nUndergraduateTeachingAssitant\\nAugust2018-May2019\\n\\nAssistedinComputerScienceI,II,III\\n\\nResponsibleinGrading,SupervisingLabs,Holdinghours\\n\\nHeldregularmeetingwithstudentmakingsurethattheyaredoingwellinclass\\nP\\nROJECTS\\n\\nCityTSimulation\\n:Realtimesimulationofinacity\\n\\nUsedPythontkinterasaframeworktocreateadesktopapplicationandgeneratinggraphics\\n\\nAppliedWaterfallmodelstrategytodeveloptheSoftwarewhichincludes:Requirements,Analysis,Design,Implementation,Testingand\\nMaintenance\\n\\nImplementedBreathFirstSearchtohelpacardetermineshortestpathstoit'sdestination\\n\\nUNLSurveillanceSystem\\n:Anapplicationhelpdetectsviolencearoundcampususingmachinelearning\\n\\nInvoiceReportSystem\\n:Newlyimplementedreportsystemthatreplacesoldgreenscreen\\n\\nAppliedObjectOrientedProgrammingtohelpdescribedifferenttypeofcustomers,products...programmatically\\n\\nCreateddatabaseandoptimizeSQLqueriestoorganizestablesandstoredata\\n\\nCreatedpersistenceAPItomaintaintheprogramanddisplaydatafromdatabase\\n\""
      ]
     },
     "execution_count": 23,
     "metadata": {},
     "output_type": "execute_result"
    }
   ],
   "source": []
  }
 ],
 "metadata": {
  "kernelspec": {
   "display_name": "Python 3",
   "language": "python",
   "name": "python3"
  },
  "language_info": {
   "codemirror_mode": {
    "name": "ipython",
    "version": 3
   },
   "file_extension": ".py",
   "mimetype": "text/x-python",
   "name": "python",
   "nbconvert_exporter": "python",
   "pygments_lexer": "ipython3",
   "version": "3.7.4"
  }
 },
 "nbformat": 4,
 "nbformat_minor": 2
}
